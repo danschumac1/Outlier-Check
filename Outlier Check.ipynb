{
 "cells": [
  {
   "cell_type": "code",
   "execution_count": null,
   "id": "e575c0a3",
   "metadata": {},
   "outputs": [],
   "source": [
    "#this function takes in a list and returns what, if any, the low and high outliers are."
   ]
  },
  {
   "cell_type": "code",
   "execution_count": 1,
   "id": "abedddf4",
   "metadata": {},
   "outputs": [],
   "source": [
    "import statistics"
   ]
  },
  {
   "cell_type": "code",
   "execution_count": 11,
   "id": "c5831480",
   "metadata": {},
   "outputs": [],
   "source": [
    "#low outlier = Q1 -1.5(IQR)\n",
    "#High outlier = Q3 + 1.5(IQR)\n",
    "\n",
    "def outlier_check(mylist):\n",
    "    low_out_list = []\n",
    "    high_out_list = []\n",
    "    \n",
    "    #find Q1\n",
    "    Q1 = statistics.quantiles(mylist)[0]\n",
    "    #find Q3\n",
    "    Q3 = statistics.quantiles(mylist)[2]\n",
    "    #find IQR\n",
    "    IQR = Q3-Q1\n",
    "\n",
    "    #check data for low outlier\n",
    "    for item in mylist:\n",
    "        if item < Q1 -1.5*IQR:\n",
    "            low_out_list.append(item)\n",
    "            \n",
    "    #check data for high outlier.\n",
    "        if item > Q3 +1.5*IQR:\n",
    "            high_out_list.append(item)\n",
    "\n",
    "    return {\n",
    "        'Low Outliers': low_out_list,\n",
    "        'High Outliers': high_out_list\n",
    "    }\n",
    "\n"
   ]
  },
  {
   "cell_type": "code",
   "execution_count": 13,
   "id": "c05df302",
   "metadata": {},
   "outputs": [
    {
     "data": {
      "text/plain": [
       "{'Low Outliers': [], 'High Outliers': []}"
      ]
     },
     "execution_count": 13,
     "metadata": {},
     "output_type": "execute_result"
    }
   ],
   "source": [
    "outlier_check([1,2,3,4,5])"
   ]
  },
  {
   "cell_type": "code",
   "execution_count": 14,
   "id": "d4901613",
   "metadata": {},
   "outputs": [
    {
     "data": {
      "text/plain": [
       "{'Low Outliers': [], 'High Outliers': [100]}"
      ]
     },
     "execution_count": 14,
     "metadata": {},
     "output_type": "execute_result"
    }
   ],
   "source": [
    "outlier_check([1,2,3,4,5,100])"
   ]
  },
  {
   "cell_type": "code",
   "execution_count": 15,
   "id": "3227f052",
   "metadata": {},
   "outputs": [
    {
     "data": {
      "text/plain": [
       "{'Low Outliers': [-100], 'High Outliers': []}"
      ]
     },
     "execution_count": 15,
     "metadata": {},
     "output_type": "execute_result"
    }
   ],
   "source": [
    "outlier_check([-100,1,2,3,4,5,])"
   ]
  }
 ],
 "metadata": {
  "kernelspec": {
   "display_name": "Python 3 (ipykernel)",
   "language": "python",
   "name": "python3"
  },
  "language_info": {
   "codemirror_mode": {
    "name": "ipython",
    "version": 3
   },
   "file_extension": ".py",
   "mimetype": "text/x-python",
   "name": "python",
   "nbconvert_exporter": "python",
   "pygments_lexer": "ipython3",
   "version": "3.9.12"
  }
 },
 "nbformat": 4,
 "nbformat_minor": 5
}
